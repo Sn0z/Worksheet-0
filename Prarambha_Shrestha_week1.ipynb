{
  "cells": [
    {
      "cell_type": "code",
      "execution_count": null,
      "metadata": {
        "colab": {
          "base_uri": "https://localhost:8080/"
        },
        "id": "knoPn90G8QLP",
        "outputId": "9d494c27-0ad2-455c-f85a-fca364f09a95"
      },
      "outputs": [
        {
          "name": "stdout",
          "output_type": "stream",
          "text": [
            "[[4.63516502e-310 0.00000000e+000]\n",
            " [9.04115220e+271 1.02124020e+277]]\n"
          ]
        }
      ],
      "source": [
        "#problem1\n",
        "#Qno1\n",
        "import numpy as np\n",
        "A=np.empty((2,2))\n",
        "print(A)"
      ]
    },
    {
      "cell_type": "code",
      "execution_count": null,
      "metadata": {
        "colab": {
          "base_uri": "https://localhost:8080/"
        },
        "id": "skMugSzK95VB",
        "outputId": "959b239f-64e3-431b-b053-f776820f3657"
      },
      "outputs": [
        {
          "name": "stdout",
          "output_type": "stream",
          "text": [
            "[[1. 1.]\n",
            " [1. 1.]\n",
            " [1. 1.]\n",
            " [1. 1.]]\n"
          ]
        }
      ],
      "source": [
        "#Qno2\n",
        "import numpy as np\n",
        "A = np.ones((4,2))\n",
        "print(A)"
      ]
    },
    {
      "cell_type": "code",
      "execution_count": null,
      "metadata": {
        "colab": {
          "base_uri": "https://localhost:8080/"
        },
        "id": "A9_bA_cs-KHB",
        "outputId": "53209fa9-7a57-4b66-9b69-3f7a7f5fe7f5"
      },
      "outputs": [
        {
          "name": "stdout",
          "output_type": "stream",
          "text": [
            "[[1 1]\n",
            " [1 1]]\n"
          ]
        }
      ],
      "source": [
        "#Qno3\n",
        "import numpy as np\n",
        "filled = np.full((2,2),1)\n",
        "print(filled)"
      ]
    },
    {
      "cell_type": "code",
      "execution_count": null,
      "metadata": {
        "colab": {
          "base_uri": "https://localhost:8080/"
        },
        "id": "aoxxU256--8N",
        "outputId": "ecab7e7c-74d1-470b-8560-716a7b53e9bc"
      },
      "outputs": [
        {
          "name": "stdout",
          "output_type": "stream",
          "text": [
            "[[1 2 3]\n",
            " [4 5 6]]\n",
            "[[0 0 0]\n",
            " [0 0 0]]\n"
          ]
        }
      ],
      "source": [
        "#Qno4\n",
        "import numpy as np\n",
        "arr = np.array([[1,2,3],[4,5,6]])\n",
        "print(arr)\n",
        "zero_arr = np.zeros_like(arr)\n",
        "print(zero_arr)"
      ]
    },
    {
      "cell_type": "code",
      "execution_count": null,
      "metadata": {
        "colab": {
          "base_uri": "https://localhost:8080/"
        },
        "id": "Wr3Y6dT0_9Rc",
        "outputId": "1c33df74-6893-4e38-baa7-3a06c9697bf7"
      },
      "outputs": [
        {
          "name": "stdout",
          "output_type": "stream",
          "text": [
            "[1 2 3 4 5]\n"
          ]
        }
      ],
      "source": [
        "#Qno5\n",
        "import numpy as np\n",
        "new_list=[1,2,3,4,5]\n",
        "arr = np.array(new_list)\n",
        "print(arr)"
      ]
    },
    {
      "cell_type": "code",
      "execution_count": 1,
      "metadata": {
        "colab": {
          "base_uri": "https://localhost:8080/"
        },
        "id": "QDr27j7AAtNZ",
        "outputId": "ad2071bd-e774-4498-e3e9-d7463601158d"
      },
      "outputs": [
        {
          "output_type": "stream",
          "name": "stdout",
          "text": [
            "[10 11 12 13 14 15 16 17 18 19 20 21 22 23 24 25 26 27 28 29 30 31 32 33\n",
            " 34 35 36 37 38 39 40 41 42 43 44 45 46 47 48]\n"
          ]
        }
      ],
      "source": [
        "#problem2\n",
        "#Qno1\n",
        "import numpy as np\n",
        "arr = np.arange(10,49)\n",
        "print(arr)"
      ]
    },
    {
      "cell_type": "code",
      "execution_count": null,
      "metadata": {
        "colab": {
          "base_uri": "https://localhost:8080/"
        },
        "id": "w08HPL7hBDsn",
        "outputId": "db2ad2cd-09a3-4b74-daee-23c13d82a1cd"
      },
      "outputs": [
        {
          "name": "stdout",
          "output_type": "stream",
          "text": [
            "[[0 1 2]\n",
            " [3 4 5]\n",
            " [6 7 8]]\n"
          ]
        }
      ],
      "source": [
        "#Qno2\n",
        "import numpy as np\n",
        "arr = np.arange(0,9).reshape(3,3)\n",
        "print(arr)"
      ]
    },
    {
      "cell_type": "code",
      "execution_count": null,
      "metadata": {
        "colab": {
          "base_uri": "https://localhost:8080/"
        },
        "id": "yMHqe1cyBw4Y",
        "outputId": "2dcb2d36-51aa-4664-85c8-af3f952d2c85"
      },
      "outputs": [
        {
          "name": "stdout",
          "output_type": "stream",
          "text": [
            "[[1. 0. 0.]\n",
            " [0. 1. 0.]\n",
            " [0. 0. 1.]]\n"
          ]
        }
      ],
      "source": [
        "#Qno3\n",
        "import numpy as np\n",
        "arr = np.eye(3,3)\n",
        "print(arr)"
      ]
    },
    {
      "cell_type": "code",
      "execution_count": null,
      "metadata": {
        "colab": {
          "base_uri": "https://localhost:8080/"
        },
        "id": "0BeYIC95B_WO",
        "outputId": "a5032633-8b0f-47e8-b104-dda4ad7e2a62"
      },
      "outputs": [
        {
          "name": "stdout",
          "output_type": "stream",
          "text": [
            "[0.25316571 0.05804136 0.11192424 0.21356917 0.40160648 0.53838875\n",
            " 0.72341908 0.38931199 0.77118695 0.69403547 0.38982082 0.49589215\n",
            " 0.43180007 0.57250565 0.82236922 0.72406099 0.12400481 0.22788642\n",
            " 0.79845947 0.07163072 0.19752169 0.44729177 0.28108827 0.5822033\n",
            " 0.85789205 0.13603174 0.07938553 0.37773566 0.21468016 0.83295654]\n",
            "\n",
            " 0.4273288733847763\n"
          ]
        }
      ],
      "source": [
        "#Qno4\n",
        "import numpy as np\n",
        "arr = np.random.random(30)\n",
        "print(arr)\n",
        "arr_mean = arr.mean()\n",
        "print(\"\\n\", arr_mean)"
      ]
    },
    {
      "cell_type": "code",
      "execution_count": null,
      "metadata": {
        "colab": {
          "base_uri": "https://localhost:8080/"
        },
        "id": "OiBtlaaZCzeo",
        "outputId": "4a85dd46-686c-465e-e89e-cf7b934d6000"
      },
      "outputs": [
        {
          "name": "stdout",
          "output_type": "stream",
          "text": [
            "[[0.95694992 0.21469665 0.34123915 0.8010515  0.02274428 0.2549822\n",
            "  0.15958751 0.57089512 0.92552514 0.7462947 ]\n",
            " [0.34694739 0.19195436 0.0398015  0.17475267 0.92611159 0.14968315\n",
            "  0.59069179 0.91818841 0.97608987 0.99674545]\n",
            " [0.18343649 0.89990307 0.15720029 0.43872506 0.9099269  0.38547253\n",
            "  0.61574266 0.48131515 0.49355118 0.8967568 ]\n",
            " [0.69208098 0.51866884 0.73149022 0.21876587 0.4358945  0.20594963\n",
            "  0.96490778 0.2957102  0.72596941 0.98250119]\n",
            " [0.83631173 0.2083463  0.47954676 0.6715684  0.78075956 0.74320244\n",
            "  0.45564489 0.33563334 0.25203191 0.56678889]\n",
            " [0.70556833 0.1735209  0.13491861 0.8393214  0.86915787 0.63097178\n",
            "  0.34190136 0.63856285 0.90693272 0.62405807]\n",
            " [0.72041511 0.10751712 0.36615068 0.09596223 0.025117   0.44840899\n",
            "  0.62020486 0.59082586 0.82624806 0.60088017]\n",
            " [0.19949099 0.20435207 0.37848826 0.8092342  0.18708876 0.52282685\n",
            "  0.25876197 0.36925977 0.21182906 0.8297098 ]\n",
            " [0.15910366 0.87292002 0.95319402 0.61846773 0.76036986 0.98025407\n",
            "  0.41443661 0.48372327 0.88652912 0.86776534]\n",
            " [0.8723544  0.70409059 0.45695369 0.70707284 0.66365384 0.9834727\n",
            "  0.5782864  0.01198744 0.8171157  0.8561975 ]]\n",
            "\n",
            " 0.011987444984293383 0.9967454496833011\n"
          ]
        }
      ],
      "source": [
        "#Qno5\n",
        "import numpy as np\n",
        "arr = np.random.random((10,10))\n",
        "print(arr)\n",
        "arr_min = arr.min()\n",
        "arr_max = arr.max()\n",
        "print(\"\\n\", arr_min, arr_max)"
      ]
    },
    {
      "cell_type": "code",
      "execution_count": null,
      "metadata": {
        "colab": {
          "base_uri": "https://localhost:8080/"
        },
        "id": "W43djbbZDD5q",
        "outputId": "75b0f890-fb86-48ae-973d-a09d40c562ef"
      },
      "outputs": [
        {
          "name": "stdout",
          "output_type": "stream",
          "text": [
            "[0. 0. 0. 0. 1. 0. 0. 0. 0. 0.]\n"
          ]
        }
      ],
      "source": [
        "#Qno6\n",
        "import numpy as np\n",
        "arr = np.zeros(10)\n",
        "arr[4] = 1\n",
        "print (arr)"
      ]
    },
    {
      "cell_type": "code",
      "execution_count": null,
      "metadata": {
        "colab": {
          "base_uri": "https://localhost:8080/"
        },
        "id": "acMp62sMDV5X",
        "outputId": "3ab20070-f947-48e1-bc14-8e7eaaa8c9b1"
      },
      "outputs": [
        {
          "name": "stdout",
          "output_type": "stream",
          "text": [
            "[0 4 0 0 2 1]\n"
          ]
        }
      ],
      "source": [
        "#Qno7\n",
        "import numpy as np\n",
        "arr = [1,2,0,0,4,0]\n",
        "rev_arr = np.flip(arr)\n",
        "print(rev_arr)"
      ]
    },
    {
      "cell_type": "code",
      "execution_count": null,
      "metadata": {
        "colab": {
          "base_uri": "https://localhost:8080/"
        },
        "id": "IlrMjNSkDyMc",
        "outputId": "5f929bc7-309b-4225-ab92-7d0362762657"
      },
      "outputs": [
        {
          "name": "stdout",
          "output_type": "stream",
          "text": [
            "original array: \n",
            " [[1. 1. 1. 1.]\n",
            " [1. 1. 1. 1.]\n",
            " [1. 1. 1. 1.]\n",
            " [1. 1. 1. 1.]]\n",
            "Array with 1 on the border and 0 on inside \n",
            " [[1. 1. 1. 1.]\n",
            " [1. 0. 0. 1.]\n",
            " [1. 0. 0. 1.]\n",
            " [1. 1. 1. 1.]]\n"
          ]
        }
      ],
      "source": [
        "#Qno8\n",
        "import numpy as np\n",
        "arr = np.ones((4,4))\n",
        "print(\"original array: \\n\", arr)\n",
        "arr[1:-1,1:-1] = 0\n",
        "print(\"Array with 1 on the border and 0 on inside \\n\", arr)"
      ]
    },
    {
      "cell_type": "code",
      "execution_count": null,
      "metadata": {
        "colab": {
          "base_uri": "https://localhost:8080/"
        },
        "id": "dEojuyEhFnRW",
        "outputId": "056265a9-4ad6-4b6e-8544-e083e4d26ebf"
      },
      "outputs": [
        {
          "name": "stdout",
          "output_type": "stream",
          "text": [
            "sum of x and y matrix: \n",
            " [[ 6  8]\n",
            " [10 13]] \n",
            "\n",
            "sum of v and w matirx: \n",
            " [20 22] \n",
            "\n",
            "difference of x and y matrix: \n",
            " [[-4 -4]\n",
            " [-4 -3]] \n",
            "\n",
            "difference of v and w matrix: \n",
            " [-2 -2] \n",
            "\n",
            "product of x and y matrix: \n",
            " [[ 5 12]\n",
            " [21 40]] \n",
            "\n",
            "product of v and w matrix: \n",
            " [ 99 120] \n",
            "\n",
            "square of x matrix: \n",
            " [[ 1  4]\n",
            " [ 9 25]] \n",
            "\n",
            "square of y matrix: \n",
            " [[25 36]\n",
            " [49 64]] \n",
            "\n",
            "square of v matrix: \n",
            " [ 81 100] \n",
            "\n",
            "square of w matrix: \n",
            " [121 144] \n",
            "\n",
            "dot product of x and y matrix: \n",
            " [[19 22]\n",
            " [50 58]] \n",
            "\n",
            "dot product of v and w matrix: \n",
            " 219 \n",
            "\n"
          ]
        },
        {
          "data": {
            "text/plain": [
              "array([ 9, 10, 11, 12])"
            ]
          },
          "execution_count": 1,
          "metadata": {},
          "output_type": "execute_result"
        }
      ],
      "source": [
        "#problem3\n",
        "import numpy as np\n",
        "x = np.array([[1,2],[3,5]])\n",
        "y = np.array([[5,6],[7,8]])\n",
        "v = np.array([9,10])\n",
        "w = np.array([11,12])\n",
        "sum_x_y = x+y\n",
        "sum_v_w = v+w\n",
        "print(\"sum of x and y matrix: \\n\",sum_x_y,\"\\n\")\n",
        "print(\"sum of v and w matirx: \\n\",sum_v_w, \"\\n\")\n",
        "diff_x_y = x-y\n",
        "diff_v_w = v-w\n",
        "print(\"difference of x and y matrix: \\n\",diff_x_y,\"\\n\")\n",
        "print(\"difference of v and w matrix: \\n\",diff_v_w, \"\\n\")\n",
        "prod_x_y = x*y\n",
        "prod_v_w = v*w\n",
        "print(\"product of x and y matrix: \\n\",prod_x_y,\"\\n\")\n",
        "print(\"product of v and w matrix: \\n\",prod_v_w, \"\\n\")\n",
        "sqr_x = np.square(x)\n",
        "sqr_y = np.square(y)\n",
        "sqr_v = np.square(v)\n",
        "sqr_w = np.square(w)\n",
        "print(\"square of x matrix: \\n\",sqr_x,\"\\n\")\n",
        "print(\"square of y matrix: \\n\",sqr_y,\"\\n\")\n",
        "print(\"square of v matrix: \\n\",sqr_v,\"\\n\")\n",
        "print(\"square of w matrix: \\n\",sqr_w,\"\\n\")\n",
        "dot_x_y = np.dot(x,y)\n",
        "dot_v_w = np.dot(v,w)\n",
        "print(\"dot product of x and y matrix: \\n\",dot_x_y,\"\\n\")\n",
        "print(\"dot product of v and w matrix: \\n\",dot_v_w,\"\\n\")\n",
        "conc1=np.concatenate((x,y),axis=1)\n",
        "conc1\n",
        "conc2=np.concatenate((v,w), axis=0)\n",
        "conc2"
      ]
    },
    {
      "cell_type": "code",
      "execution_count": 2,
      "metadata": {
        "id": "4Y8eVqpd-utk"
      },
      "outputs": [],
      "source": [
        "#problem4\n",
        "A = np.array([[3,4],[7,8]])\n",
        "B = np.array([[5,3],[2,1]])\n",
        "\n",
        "inverse=np.linalg.inv(A)\n",
        "mult=np.dot(A,inverse)\n",
        "\n",
        "Equal1=np.dot(A,B)\n",
        "Equal2=np.dot(B,A)\n",
        "Equal3=Equal1==Equal2\n",
        "\n",
        "inverse1=np.transpose(Equal1)\n",
        "inverse2=np.transpose(B)\n",
        "inverse3=np.transpose(A)\n",
        "inverse4=np.dot(inverse2,inverse3)"
      ]
    }
  ],
  "metadata": {
    "colab": {
      "provenance": []
    },
    "kernelspec": {
      "display_name": "Python 3",
      "name": "python3"
    },
    "language_info": {
      "name": "python"
    }
  },
  "nbformat": 4,
  "nbformat_minor": 0
}