{
  "nbformat": 4,
  "nbformat_minor": 0,
  "metadata": {
    "colab": {
      "provenance": []
    },
    "kernelspec": {
      "name": "python3",
      "display_name": "Python 3"
    },
    "language_info": {
      "name": "python"
    }
  },
  "cells": [
    {
      "cell_type": "code",
      "execution_count": null,
      "metadata": {
        "colab": {
          "base_uri": "https://localhost:8080/"
        },
        "id": "kipw6itEWwky",
        "outputId": "03db7b16-bb8f-4013-f174-0fb75c9d1e74"
      },
      "outputs": [
        {
          "output_type": "stream",
          "name": "stdout",
          "text": [
            "Cold temprature:  [8.2, 7.9, 9.0, 8.5, 7.7, 8.4, 9.5, 8.1, 7.6, 8.0, 7.8, 8.7, 9.2, 8.3, 8.9, 7.8]\n",
            "Mild temprature:  [14.1, 13.5, 13.0, 12.9, 13.3, 14.0, 13.4, 14.2, 12.8, 13.7, 13.6, 13.8, 13.9, 12.7, 13.1, 12.5]\n",
            "Comfortable temprature:  [17.4, 18.0, 17.8, 16.5, 17.2, 16.7, 18.3, 17.9, 17.0, 16.8, 17.5, 17.1, 18.1, 16.4, 18.2, 16.6]\n"
          ]
        }
      ],
      "source": [
        "#Task to do:\n",
        "#Task 1\n",
        "cold = []\n",
        "mild = []\n",
        "comfortable = []\n",
        "\n",
        "tempratures = [8.2, 17.4, 14.1, 7.9, 18.0, 13.5, 9.0, 17.8, 13.0, 8.5,\n",
        "16.5, 12.9, 7.7, 17.2, 13.3, 8.4, 16.7, 14.0, 9.5, 18.3, 13.4, 8.1,\n",
        "17.9, 14.2, 7.6, 17.0, 12.8, 8.0, 16.8, 13.7, 7.8, 17.5, 13.6, 8.7,\n",
        "17.1, 13.8, 9.2, 18.1, 13.9, 8.3, 16.4, 12.7, 8.9, 18.2, 13.1, 7.8,\n",
        "16.6, 12.5]\n",
        "\n",
        "for temp in tempratures:\n",
        "    if temp < 10:\n",
        "        cold.append(temp)\n",
        "    elif temp < 16:\n",
        "        mild.append(temp)\n",
        "    else:\n",
        "        comfortable.append(temp)\n",
        "\n",
        "print(\"Cold temprature: \", cold)\n",
        "print(\"Mild temprature: \", mild)\n",
        "print(\"Comfortable temprature: \", comfortable)\n",
        "\n"
      ]
    },
    {
      "cell_type": "code",
      "source": [
        "#Task 2\n",
        "\n",
        "cold = []\n",
        "mild = []\n",
        "comfortable = []\n",
        "\n",
        "tempratures = [8.2, 17.4, 14.1, 7.9, 18.0, 13.5, 9.0, 17.8, 13.0, 8.5,\n",
        "16.5, 12.9, 7.7, 17.2, 13.3, 8.4, 16.7, 14.0, 9.5, 18.3, 13.4, 8.1,\n",
        "17.9, 14.2, 7.6, 17.0, 12.8, 8.0, 16.8, 13.7, 7.8, 17.5, 13.6, 8.7,\n",
        "17.1, 13.8, 9.2, 18.1, 13.9, 8.3, 16.4, 12.7, 8.9, 18.2, 13.1, 7.8,\n",
        "16.6, 12.5]\n",
        "\n",
        "for temp in tempratures:\n",
        "    if temp < 10:\n",
        "        cold.append(temp)\n",
        "    elif temp < 16:\n",
        "        mild.append(temp)\n",
        "    else:\n",
        "        comfortable.append(temp)\n",
        "\n",
        "print(\"Cold temprature: \", len(cold))\n",
        "print(\"Mild temprature: \", len(mild))\n",
        "print(\"Comfortable temprature: \", len(comfortable))"
      ],
      "metadata": {
        "colab": {
          "base_uri": "https://localhost:8080/"
        },
        "id": "ecfUaR5_YYb1",
        "outputId": "874b60b6-290d-4703-e2aa-046c588601d7"
      },
      "execution_count": null,
      "outputs": [
        {
          "output_type": "stream",
          "name": "stdout",
          "text": [
            "Cold temprature:  16\n",
            "Mild temprature:  16\n",
            "Comfortable temprature:  16\n"
          ]
        }
      ]
    },
    {
      "cell_type": "code",
      "source": [
        "#Task 3\n",
        "\n",
        "temp_c = [8.2, 17.4, 14.1, 7.9, 18.0, 13.5, 9.0, 17.8, 13.0, 8.5]\n",
        "\n",
        "temp_f = []\n",
        "\n",
        "for temp in temp_c:\n",
        "  fahernheit = (temp * 9/5) + 32\n",
        "  temp_f.append(fahernheit)\n",
        "\n",
        "print(\"Temprature in Fahrenheit: \", temp_f)"
      ],
      "metadata": {
        "colab": {
          "base_uri": "https://localhost:8080/"
        },
        "id": "L4lk4LNTYubN",
        "outputId": "d4181a55-2f42-40a7-fb72-91ee9bc77e3f"
      },
      "execution_count": null,
      "outputs": [
        {
          "output_type": "stream",
          "name": "stdout",
          "text": [
            "Temprature in Fahrenheit:  [46.76, 63.32, 57.379999999999995, 46.22, 64.4, 56.3, 48.2, 64.04, 55.4, 47.3]\n"
          ]
        }
      ]
    },
    {
      "cell_type": "code",
      "source": [
        "#Task 4:\n",
        "\n",
        "temp = [2,4,6,8,10,12,14,16,18,20,22,24]\n",
        "\n",
        "night = []\n",
        "evening = []\n",
        "day = []\n",
        "\n",
        "for i, temp in enumerate(temp):\n",
        "    if i < 4:\n",
        "        night.append(temp)\n",
        "    elif i < 8:\n",
        "        evening.append(temp)\n",
        "    else:\n",
        "        day.append(temp)\n",
        "\n",
        "print(\"Night Temprature: \", night)\n",
        "print(\"Evening Temprature: \", evening)\n",
        "print(\"Day Temprature: \", day)"
      ],
      "metadata": {
        "colab": {
          "base_uri": "https://localhost:8080/"
        },
        "id": "LLYZ4huhZuI9",
        "outputId": "1b221b62-04eb-47b3-ec0b-db72a94b0ab5"
      },
      "execution_count": null,
      "outputs": [
        {
          "output_type": "stream",
          "name": "stdout",
          "text": [
            "Night Temprature:  [2, 4, 6, 8]\n",
            "Evening Temprature:  [10, 12, 14, 16]\n",
            "Day Temprature:  [18, 20, 22, 24]\n"
          ]
        }
      ]
    },
    {
      "cell_type": "code",
      "source": [
        "#Recursion\n",
        "#Task 1\n",
        "\n",
        "def sum_nested_list(nested_list):\n",
        "  total = 0\n",
        "  for element in nested_list:\n",
        "    if isinstance(element, list): # Check if the element is a list\n",
        "      total += sum_nested_list(element) # Recursively sum the nested list\n",
        "    else:\n",
        "      total += element # Add the number to the total\n",
        "  return total\n",
        "\n",
        "nested_list = [1, [2, [3, 4], 5], 6, [7, 8]]\n",
        "result = sum_nested_list(nested_list)\n",
        "\n",
        "print(\"The total sum of all numbers in the nested list is \", result)"
      ],
      "metadata": {
        "colab": {
          "base_uri": "https://localhost:8080/"
        },
        "id": "n8Gb2pW9bE6Q",
        "outputId": "d3d32ca9-5c66-464f-d94f-002282d2ecd6"
      },
      "execution_count": null,
      "outputs": [
        {
          "output_type": "stream",
          "name": "stdout",
          "text": [
            "The total sum of all numbers in the nested list is  36\n"
          ]
        }
      ]
    },
    {
      "cell_type": "code",
      "source": [
        "# Task2\n",
        "def generate_permutations(string):\n",
        "  if len(string) == 1:\n",
        "    return [string]\n",
        "\n",
        "  permutations = []\n",
        "\n",
        "  for i, char in enumerate(string):\n",
        "    remaining_chars = string[:i] + string[i+1:]\n",
        "\n",
        "    for permutation in generate_permutations(remaining_chars):\n",
        "      permutations.append(char + permutation)\n",
        "\n",
        "  return list(set(permutations))\n",
        "\n",
        "print(generate_permutations(\"abc\"))\n",
        "print(generate_permutations(\"aab\"))\n",
        "\n"
      ],
      "metadata": {
        "colab": {
          "base_uri": "https://localhost:8080/"
        },
        "id": "_2PrvW1hcQWF",
        "outputId": "e579aee0-521b-4647-b637-ea3ecc8459ec"
      },
      "execution_count": null,
      "outputs": [
        {
          "output_type": "stream",
          "name": "stdout",
          "text": [
            "['cba', 'acb', 'cab', 'bca', 'bac', 'abc']\n",
            "['aab', 'aba', 'baa']\n"
          ]
        }
      ]
    },
    {
      "source": [
        "#Task3\n",
        "\n",
        "def calculate_directory_size(directory):\n",
        "  total = 0\n",
        "  for item in directory.values(): # Changed from directory.items() to directory.values()\n",
        "    if isinstance(item, dict):\n",
        "      total += calculate_directory_size(item)\n",
        "    else:\n",
        "      total += item\n",
        "  return total\n",
        "\n",
        "# Sample directory structure\n",
        "directory_structure = {\n",
        "  \"file1.txt\": 200,\n",
        "  \"file2.txt\": 300,\n",
        "  \"subdir1\": {\n",
        "    \"file3.txt\": 400,\n",
        "    \"file4.txt\": 100\n",
        "  },\n",
        "  \"subdir2\": {\n",
        "    \"subsubdir1\": {\n",
        "    \"file5.txt\": 250\n",
        "  },\n",
        "  \"file6.txt\": 150\n",
        "  }\n",
        "}\n",
        "\n",
        "size = calculate_directory_size(directory_structure)\n",
        "print(\"The total size of the directory is \", size, \"KB\")"
      ],
      "cell_type": "code",
      "metadata": {
        "colab": {
          "base_uri": "https://localhost:8080/"
        },
        "id": "6DHTCfX3gUNI",
        "outputId": "49167e20-42c3-4c9e-aa17-91a651bc8bec"
      },
      "execution_count": null,
      "outputs": [
        {
          "output_type": "stream",
          "name": "stdout",
          "text": [
            "The total size of the directory is  1400 KB\n"
          ]
        }
      ]
    },
    {
      "cell_type": "code",
      "source": [
        "#Dyanamic Programming\n",
        "#Task 1\n",
        "\n",
        "def min_coins(coins, amount):\n",
        "  dp = [float('inf')] * (amount + 1)\n",
        "  dp[0] = 0\n",
        "  for coin in coins:\n",
        "    for i in range(coin, amount + 1):\n",
        "      dp[i] = min(dp[i], dp[i - coin] + 1)\n",
        "  return dp[amount] if dp[amount] != float('inf') else -1\n",
        "\n",
        "coins = [1,2,5]\n",
        "amount = 11\n",
        "result = min_coins(coins, amount)\n",
        "print(f\"The minimum number of coins needed to make {amount} is {result}.\")"
      ],
      "metadata": {
        "colab": {
          "base_uri": "https://localhost:8080/"
        },
        "id": "zEBZ7Wcoiwe9",
        "outputId": "243b1729-6006-4406-dea7-69ec869b00e1"
      },
      "execution_count": null,
      "outputs": [
        {
          "output_type": "stream",
          "name": "stdout",
          "text": [
            "The minimum number of coins needed to make 11 is 3.\n"
          ]
        }
      ]
    },
    {
      "cell_type": "code",
      "source": [
        "#Task2\n",
        "\n",
        "def longest_common_subsequence(s1, s2):\n",
        "    #Initialize a DP table with dimensions (len(s1) + 1) x (len(s2) + 1)\n",
        "    #dp[i][j] will store the length of LCS of s1[0..i-1] and s2[0..j-1]\n",
        "    dp = [[0] * (len(s2) + 1) for _ in range(len(s1) + 1)]\n",
        "\n",
        "    for i in range(1, len(s1) + 1):\n",
        "        for j in range(1, len(s2) + 1):\n",
        "            if s1[i - 1] == s2[j - 1]:\n",
        "                dp[i][j] = dp[i - 1][j - 1] + 1\n",
        "            else:\n",
        "                dp[i][j] = max(dp[i - 1][j], dp[i][j - 1])\n",
        "\n",
        "    return dp[len(s1)][len(s2)]\n",
        "\n",
        "s1 = \"abcde\"\n",
        "s2 = \"ace\"\n",
        "result = longest_common_subsequence(s1, s2)\n",
        "print(f\"The length of the longest common subsequence is: {result}\")"
      ],
      "metadata": {
        "colab": {
          "base_uri": "https://localhost:8080/"
        },
        "id": "xufQmMYom_8e",
        "outputId": "acbe583c-de8b-479c-8d88-97fc3d9f75fc"
      },
      "execution_count": null,
      "outputs": [
        {
          "output_type": "stream",
          "name": "stdout",
          "text": [
            "The length of the longest common subsequence is: 3\n"
          ]
        }
      ]
    },
    {
      "cell_type": "code",
      "source": [
        "#Task-3:-\n",
        "\n",
        "def knapsack(weights, values, capacity):\n",
        "    n = len(weights)\n",
        "    dp = [[0] * (capacity + 1) for _ in range(n + 1)]\n",
        "\n",
        "    for i in range(1, n + 1):\n",
        "        for j in range(1, capacity + 1):\n",
        "            if weights[i - 1] <= j:  #If the item can fit in the current capacity\n",
        "                dp[i][j] = max(dp[i - 1][j], values[i - 1] + dp[i - 1][j - weights[i - 1]])\n",
        "            else:  #If the item cannot fit, exclude it\n",
        "                dp[i][j] = dp[i - 1][j]\n",
        "\n",
        "    return dp[n][capacity]\n",
        "\n",
        "weights = [1, 3, 4, 5]\n",
        "values = [1, 4, 5, 7]\n",
        "capacity = 7\n",
        "result = knapsack(weights, values, capacity)\n",
        "print(f\"The maximum value that can be carried in the knapsack is: {result}\")"
      ],
      "metadata": {
        "colab": {
          "base_uri": "https://localhost:8080/"
        },
        "id": "ERmRO2GknoR-",
        "outputId": "02d545fa-b930-48d2-9f43-59229038ac67"
      },
      "execution_count": null,
      "outputs": [
        {
          "output_type": "stream",
          "name": "stdout",
          "text": [
            "The maximum value that can be carried in the knapsack is: 9\n"
          ]
        }
      ]
    }
  ]
}